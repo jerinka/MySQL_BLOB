{
 "cells": [
  {
   "cell_type": "code",
   "execution_count": 36,
   "id": "drawn-genome",
   "metadata": {},
   "outputs": [],
   "source": [
    "import time"
   ]
  },
  {
   "cell_type": "code",
   "execution_count": 3,
   "id": "industrial-favor",
   "metadata": {},
   "outputs": [],
   "source": [
    "import mysql.connector\n",
    "\n",
    "mydb = mysql.connector.connect(\n",
    "  host=\"localhost\",\n",
    "  user=\"jerin\",\n",
    "  password=\"jerin123\"\n",
    ")\n",
    "\n",
    "mycursor = mydb.cursor()"
   ]
  },
  {
   "cell_type": "code",
   "execution_count": 2,
   "id": "indian-encoding",
   "metadata": {},
   "outputs": [
    {
     "ename": "DatabaseError",
     "evalue": "1007 (HY000): Can't create database 'python_db'; database exists",
     "output_type": "error",
     "traceback": [
      "\u001b[0;31m---------------------------------------------------------------------------\u001b[0m",
      "\u001b[0;31mMySQLInterfaceError\u001b[0m                       Traceback (most recent call last)",
      "\u001b[0;32m~/venv3.6/lib/python3.6/site-packages/mysql/connector/connection_cext.py\u001b[0m in \u001b[0;36mcmd_query\u001b[0;34m(self, query, raw, buffered, raw_as_string)\u001b[0m\n\u001b[1;32m    508\u001b[0m                                \u001b[0mraw\u001b[0m\u001b[0;34m=\u001b[0m\u001b[0mraw\u001b[0m\u001b[0;34m,\u001b[0m \u001b[0mbuffered\u001b[0m\u001b[0;34m=\u001b[0m\u001b[0mbuffered\u001b[0m\u001b[0;34m,\u001b[0m\u001b[0;34m\u001b[0m\u001b[0;34m\u001b[0m\u001b[0m\n\u001b[0;32m--> 509\u001b[0;31m                                raw_as_string=raw_as_string)\n\u001b[0m\u001b[1;32m    510\u001b[0m         \u001b[0;32mexcept\u001b[0m \u001b[0mMySQLInterfaceError\u001b[0m \u001b[0;32mas\u001b[0m \u001b[0mexc\u001b[0m\u001b[0;34m:\u001b[0m\u001b[0;34m\u001b[0m\u001b[0;34m\u001b[0m\u001b[0m\n",
      "\u001b[0;31mMySQLInterfaceError\u001b[0m: Can't create database 'python_db'; database exists",
      "\nDuring handling of the above exception, another exception occurred:\n",
      "\u001b[0;31mDatabaseError\u001b[0m                             Traceback (most recent call last)",
      "\u001b[0;32m<ipython-input-2-c2a364660484>\u001b[0m in \u001b[0;36m<module>\u001b[0;34m\u001b[0m\n\u001b[0;32m----> 1\u001b[0;31m \u001b[0mmycursor\u001b[0m\u001b[0;34m.\u001b[0m\u001b[0mexecute\u001b[0m\u001b[0;34m(\u001b[0m\u001b[0;34m\"CREATE DATABASE python_db\"\u001b[0m\u001b[0;34m)\u001b[0m\u001b[0;34m\u001b[0m\u001b[0;34m\u001b[0m\u001b[0m\n\u001b[0m",
      "\u001b[0;32m~/venv3.6/lib/python3.6/site-packages/mysql/connector/cursor_cext.py\u001b[0m in \u001b[0;36mexecute\u001b[0;34m(self, operation, params, multi)\u001b[0m\n\u001b[1;32m    274\u001b[0m             result = self._cnx.cmd_query(stmt, raw=self._raw,\n\u001b[1;32m    275\u001b[0m                                          \u001b[0mbuffered\u001b[0m\u001b[0;34m=\u001b[0m\u001b[0mself\u001b[0m\u001b[0;34m.\u001b[0m\u001b[0m_buffered\u001b[0m\u001b[0;34m,\u001b[0m\u001b[0;34m\u001b[0m\u001b[0;34m\u001b[0m\u001b[0m\n\u001b[0;32m--> 276\u001b[0;31m                                          raw_as_string=self._raw_as_string)\n\u001b[0m\u001b[1;32m    277\u001b[0m         \u001b[0;32mexcept\u001b[0m \u001b[0mMySQLInterfaceError\u001b[0m \u001b[0;32mas\u001b[0m \u001b[0mexc\u001b[0m\u001b[0;34m:\u001b[0m\u001b[0;34m\u001b[0m\u001b[0;34m\u001b[0m\u001b[0m\n\u001b[1;32m    278\u001b[0m             raise errors.get_mysql_exception(msg=exc.msg, errno=exc.errno,\n",
      "\u001b[0;32m~/venv3.6/lib/python3.6/site-packages/mysql/connector/connection_cext.py\u001b[0m in \u001b[0;36mcmd_query\u001b[0;34m(self, query, raw, buffered, raw_as_string)\u001b[0m\n\u001b[1;32m    510\u001b[0m         \u001b[0;32mexcept\u001b[0m \u001b[0mMySQLInterfaceError\u001b[0m \u001b[0;32mas\u001b[0m \u001b[0mexc\u001b[0m\u001b[0;34m:\u001b[0m\u001b[0;34m\u001b[0m\u001b[0;34m\u001b[0m\u001b[0m\n\u001b[1;32m    511\u001b[0m             raise errors.get_mysql_exception(exc.errno, msg=exc.msg,\n\u001b[0;32m--> 512\u001b[0;31m                                              sqlstate=exc.sqlstate)\n\u001b[0m\u001b[1;32m    513\u001b[0m         \u001b[0;32mexcept\u001b[0m \u001b[0mAttributeError\u001b[0m\u001b[0;34m:\u001b[0m\u001b[0;34m\u001b[0m\u001b[0;34m\u001b[0m\u001b[0m\n\u001b[1;32m    514\u001b[0m             \u001b[0;32mif\u001b[0m \u001b[0mself\u001b[0m\u001b[0;34m.\u001b[0m\u001b[0m_unix_socket\u001b[0m\u001b[0;34m:\u001b[0m\u001b[0;34m\u001b[0m\u001b[0;34m\u001b[0m\u001b[0m\n",
      "\u001b[0;31mDatabaseError\u001b[0m: 1007 (HY000): Can't create database 'python_db'; database exists"
     ]
    }
   ],
   "source": [
    "mycursor.execute(\"CREATE DATABASE python_db\")"
   ]
  },
  {
   "cell_type": "code",
   "execution_count": 4,
   "id": "simple-lemon",
   "metadata": {},
   "outputs": [],
   "source": [
    "mydb = mysql.connector.connect(\n",
    "  host=\"localhost\",\n",
    "  user=\"jerin\",\n",
    "  password=\"jerin123\",\n",
    "  database='python_db'\n",
    ")\n",
    "\n",
    "mycursor = mydb.cursor()"
   ]
  },
  {
   "cell_type": "code",
   "execution_count": null,
   "id": "pressed-nickel",
   "metadata": {},
   "outputs": [],
   "source": [
    "sql = \"CREATE TABLE Python_Employee (name TEXT NOT NULL ,photo BLOB NOT NULL , biodata BLOB NOT NULL , id INT AUTO_INCREMENT PRIMARY KEY)\"''"
   ]
  },
  {
   "cell_type": "code",
   "execution_count": 5,
   "id": "confused-bunny",
   "metadata": {},
   "outputs": [
    {
     "ename": "NameError",
     "evalue": "name 'sql' is not defined",
     "output_type": "error",
     "traceback": [
      "\u001b[0;31m---------------------------------------------------------------------------\u001b[0m",
      "\u001b[0;31mNameError\u001b[0m                                 Traceback (most recent call last)",
      "\u001b[0;32m<ipython-input-5-00f8eef34783>\u001b[0m in \u001b[0;36m<module>\u001b[0;34m\u001b[0m\n\u001b[0;32m----> 1\u001b[0;31m \u001b[0msql\u001b[0m\u001b[0;34m\u001b[0m\u001b[0;34m\u001b[0m\u001b[0m\n\u001b[0m",
      "\u001b[0;31mNameError\u001b[0m: name 'sql' is not defined"
     ]
    }
   ],
   "source": [
    "sql"
   ]
  },
  {
   "cell_type": "code",
   "execution_count": 6,
   "id": "korean-direction",
   "metadata": {},
   "outputs": [
    {
     "ename": "NameError",
     "evalue": "name 'sql' is not defined",
     "output_type": "error",
     "traceback": [
      "\u001b[0;31m---------------------------------------------------------------------------\u001b[0m",
      "\u001b[0;31mNameError\u001b[0m                                 Traceback (most recent call last)",
      "\u001b[0;32m<ipython-input-6-797a2a6832d9>\u001b[0m in \u001b[0;36m<module>\u001b[0;34m\u001b[0m\n\u001b[0;32m----> 1\u001b[0;31m \u001b[0mmycursor\u001b[0m\u001b[0;34m.\u001b[0m\u001b[0mexecute\u001b[0m\u001b[0;34m(\u001b[0m\u001b[0msql\u001b[0m\u001b[0;34m)\u001b[0m\u001b[0;34m\u001b[0m\u001b[0;34m\u001b[0m\u001b[0m\n\u001b[0m",
      "\u001b[0;31mNameError\u001b[0m: name 'sql' is not defined"
     ]
    }
   ],
   "source": [
    "mycursor.execute(sql)"
   ]
  },
  {
   "cell_type": "code",
   "execution_count": 7,
   "id": "meaningful-breakdown",
   "metadata": {},
   "outputs": [
    {
     "name": "stdout",
     "output_type": "stream",
     "text": [
      "('Python_Employee',)\n"
     ]
    }
   ],
   "source": [
    "mycursor.execute(\"SHOW TABLES\")\n",
    "\n",
    "for x in mycursor:\n",
    "  print(x)"
   ]
  },
  {
   "cell_type": "code",
   "execution_count": 8,
   "id": "material-number",
   "metadata": {},
   "outputs": [
    {
     "name": "stdout",
     "output_type": "stream",
     "text": [
      "['name', 'photo', 'biodata', 'id']\n"
     ]
    }
   ],
   "source": [
    "mycursor.execute(\"SHOW columns FROM Python_Employee\")\n",
    "print ([column[0] for column in mycursor.fetchall()])"
   ]
  },
  {
   "cell_type": "code",
   "execution_count": 9,
   "id": "selective-malpractice",
   "metadata": {},
   "outputs": [],
   "source": [
    "mycursor.execute(\"SELECT * FROM Python_Employee\")\n",
    "\n",
    "myresult = mycursor.fetchall()\n",
    "\n",
    "for x in myresult:\n",
    "  print(x)"
   ]
  },
  {
   "cell_type": "markdown",
   "id": "smart-conditioning",
   "metadata": {},
   "source": [
    "## INSERT BLOB"
   ]
  },
  {
   "cell_type": "code",
   "execution_count": 10,
   "id": "secret-missouri",
   "metadata": {},
   "outputs": [],
   "source": [
    "def convertToBinaryData(filename):\n",
    "    # Convert digital data to binary format\n",
    "    with open(filename, 'rb') as file:\n",
    "        binaryData = file.read()\n",
    "    return binaryData"
   ]
  },
  {
   "cell_type": "code",
   "execution_count": 23,
   "id": "hydraulic-wrestling",
   "metadata": {},
   "outputs": [],
   "source": [
    "def insertBLOB(emp_id, name, photo, biodataFile):\n",
    "    print(\"Inserting BLOB into Python_Employee table\")\n",
    "    try:\n",
    "        connection = mysql.connector.connect(host='localhost',\n",
    "                                             database='python_db',\n",
    "                                             user='jerin',\n",
    "                                             password='jerin123')\n",
    "\n",
    "        cursor = connection.cursor()\n",
    "        sql_insert_blob_query = \"\"\" INSERT INTO Python_Employee\n",
    "                          (id, name, photo, biodata) VALUES (%s,%s,%s,%s)\"\"\"\n",
    "\n",
    "        empPicture = convertToBinaryData(photo)\n",
    "        file = convertToBinaryData(biodataFile)\n",
    "\n",
    "        # Convert data into tuple format\n",
    "        insert_blob_tuple = (emp_id, name, empPicture, file)\n",
    "        result = cursor.execute(sql_insert_blob_query, insert_blob_tuple)\n",
    "        connection.commit()\n",
    "        print(\"Successfully inserted Image and file as a BLOB into python_employee table\", result)\n",
    "\n",
    "    except mysql.connector.Error as error:\n",
    "        print(\"Failed inserting BLOB data into MySQL table {}\".format(error))\n",
    "\n",
    "    finally:\n",
    "        if connection.is_connected():\n",
    "            cursor.close()\n",
    "            connection.close()\n",
    "            print(\"MySQL connection is closed\")"
   ]
  },
  {
   "cell_type": "code",
   "execution_count": 37,
   "id": "ranking-speech",
   "metadata": {},
   "outputs": [
    {
     "name": "stdout",
     "output_type": "stream",
     "text": [
      "Inserting BLOB into Python_Employee table\n",
      "Failed inserting BLOB data into MySQL table 1062 (23000): Duplicate entry '4' for key 'PRIMARY'\n",
      "MySQL connection is closed\n"
     ]
    }
   ],
   "source": [
    "start=time.time()\n",
    "insertBLOB(4, \"Eric\", \"/home/skycam/basics/mysql_basics/MySQL_BLOB/indata/IMG-20190814-WA0003.jpg\",\n",
    "           \"/home/skycam/basics/mysql_basics/MySQL_BLOB/indata/bio1.txt\")\n",
    "print('Time:',tim)"
   ]
  },
  {
   "cell_type": "markdown",
   "id": "packed-symbol",
   "metadata": {},
   "source": [
    "## SELECT BLOB"
   ]
  },
  {
   "cell_type": "code",
   "execution_count": 26,
   "id": "ideal-hacker",
   "metadata": {},
   "outputs": [],
   "source": [
    "def write_file(data, filename):\n",
    "    # Convert binary data to proper format and write it on Hard Disk\n",
    "    with open(filename, 'wb') as file:\n",
    "        file.write(data)\n"
   ]
  },
  {
   "cell_type": "code",
   "execution_count": 33,
   "id": "spectacular-cathedral",
   "metadata": {},
   "outputs": [],
   "source": [
    "def readBLOB(emp_id, photo, bioData):\n",
    "    print(\"Reading BLOB data from python_employee table\")\n",
    "\n",
    "    try:\n",
    "        connection = mysql.connector.connect(host='localhost',\n",
    "                                             database='python_db',\n",
    "                                             user='jerin',\n",
    "                                             password='jerin123')\n",
    "\n",
    "        cursor = connection.cursor()\n",
    "        sql_fetch_blob_query = \"\"\"SELECT * from Python_Employee where id = %s\"\"\"\n",
    "\n",
    "        cursor.execute(sql_fetch_blob_query, (emp_id,))\n",
    "        record = cursor.fetchall()\n",
    "        for row in record:\n",
    "            print(\"Id = \", row[3], )\n",
    "            print(\"Name = \", row[0])\n",
    "            image = row[1]\n",
    "            file = row[2]\n",
    "            print(\"Storing employee image and bio-data on disk \\n\")\n",
    "            write_file(image, photo)\n",
    "            write_file(file, bioData)\n",
    "\n",
    "    except mysql.connector.Error as error:\n",
    "        print(\"Failed to read BLOB data from MySQL table {}\".format(error))\n",
    "\n",
    "    finally:\n",
    "        if connection.is_connected():\n",
    "            cursor.close()\n",
    "            connection.close()\n",
    "            print(\"MySQL connection is closed\")"
   ]
  },
  {
   "cell_type": "code",
   "execution_count": 35,
   "id": "fewer-murder",
   "metadata": {},
   "outputs": [
    {
     "name": "stdout",
     "output_type": "stream",
     "text": [
      "Reading BLOB data from python_employee table\n",
      "Id =  1\n",
      "Name =  Eric\n",
      "Storing employee image and bio-data on disk \n",
      "\n",
      "MySQL connection is closed\n"
     ]
    }
   ],
   "source": [
    "readBLOB(1, \"eric_photo.jpg\", \"eric_bioData.txt\")"
   ]
  },
  {
   "cell_type": "code",
   "execution_count": null,
   "id": "centered-trustee",
   "metadata": {},
   "outputs": [],
   "source": []
  }
 ],
 "metadata": {
  "kernelspec": {
   "display_name": "venv3.6",
   "language": "python",
   "name": "venv3.6"
  },
  "language_info": {
   "codemirror_mode": {
    "name": "ipython",
    "version": 3
   },
   "file_extension": ".py",
   "mimetype": "text/x-python",
   "name": "python",
   "nbconvert_exporter": "python",
   "pygments_lexer": "ipython3",
   "version": "3.6.9"
  }
 },
 "nbformat": 4,
 "nbformat_minor": 5
}
